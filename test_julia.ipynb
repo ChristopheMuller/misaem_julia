{
 "cells": [
  {
   "cell_type": "code",
   "execution_count": 30,
   "id": "7cf11e38",
   "metadata": {},
   "outputs": [
    {
     "name": "stderr",
     "output_type": "stream",
     "text": [
      "\u001b[32m\u001b[1m  Activating\u001b[22m\u001b[39m project at `c:\\Users\\Chris\\Documents\\INRIA\\R_scripts\\misaem_julia\\MISAEM`\n"
     ]
    }
   ],
   "source": [
    "using Pkg\n",
    "Pkg.activate(\"MISAEM\")\n",
    "\n",
    "using MISAEM"
   ]
  },
  {
   "cell_type": "code",
   "execution_count": 31,
   "id": "f149e6de",
   "metadata": {},
   "outputs": [
    {
     "name": "stdout",
     "output_type": "stream",
     "text": [
      "[0.8142665605438179, 0.9877458230632161, 0.02428674270954094, 0.9609970544880675, 0.03080470492392332, 0.995934089641997, 0.9993806948719941, 0.8159392823782796, 0.4140418172841337, 0.8878416396716566]\n",
      "Bool[1, 1, 0, 1, 1, 1, 1, 1, 1, 1]\n",
      "0.4988\n"
     ]
    }
   ],
   "source": [
    "using MISAEM\n",
    "using Random\n",
    "using Distributions\n",
    "using LinearAlgebra\n",
    "using Statistics\n",
    "\n",
    "# Set a random seed for reproducibility\n",
    "Random.seed!(123)\n",
    "\n",
    "# 2. Generate some example data\n",
    "# n: number of samples, p: number of features\n",
    "n = 5000\n",
    "p = 5\n",
    "\n",
    "# Create a design matrix X with some missing values (NaN)\n",
    "X_complete = rand(Normal(), n, p)\n",
    "X_missing = copy(X_complete)\n",
    "X_missing[rand(Bool, n, p) .< 0.15] .= NaN # Introduce 15% missing values\n",
    "\n",
    "# Create a response vector y (binary)\n",
    "true_coeffs = randn(p)\n",
    "linear_predictor = X_complete[:, 1:p] * true_coeffs\n",
    "probabilities = 1.0 ./ (1.0 .+ exp.(-linear_predictor))\n",
    "y = rand.(Bernoulli.(probabilities));\n",
    "\n",
    "println(probabilities[1:10])\n",
    "println(y[1:10])\n",
    "println(mean(y))"
   ]
  },
  {
   "cell_type": "code",
   "execution_count": 32,
   "id": "a54a2aaa",
   "metadata": {},
   "outputs": [
    {
     "data": {
      "text/plain": [
       "SAEMLogisticRegression(1000, 1.0e-7, 2, 1.0, 50, false, false, nothing, 42, Float64[], 0.0, Float64[], Float64[], Matrix{Float64}(undef, 0, 0), 0.0, false, 0)"
      ]
     },
     "metadata": {},
     "output_type": "display_data"
    }
   ],
   "source": [
    "\n",
    "\n",
    "# 3. Instantiate the MISAEM model\n",
    "# You can adjust hyperparameters here if needed\n",
    "model = MISAEM.SAEMLogisticRegression(\n",
    "    maxruns = 1000,\n",
    "    random_state = 42,\n",
    "    var_cal=false,\n",
    "    ll_obs_cal=false\n",
    ")\n"
   ]
  },
  {
   "cell_type": "code",
   "execution_count": 33,
   "id": "776c86d4",
   "metadata": {},
   "outputs": [
    {
     "name": "stdout",
     "output_type": "stream",
     "text": [
      "Fitting the model...\n"
     ]
    },
    {
     "name": "stderr",
     "output_type": "stream",
     "text": [
      "┌ Warning: 166 rows with all NaN values in X have been removed.\n",
      "│   DataRemovalWarning = MISAEM.DataRemovalWarning\n",
      "└ @ MISAEM C:\\Users\\Chris\\Documents\\INRIA\\R_scripts\\misaem_julia\\MISAEM\\src\\MISAEM.jl:121\n",
      "\u001b[32mSAEM Iterations:  26%|█████████                         |  ETA: 0:00:08\u001b[39m\u001b[K"
     ]
    },
    {
     "name": "stdout",
     "output_type": "stream",
     "text": [
      "\n",
      "...converged after 264 iterations.\n"
     ]
    },
    {
     "data": {
      "text/plain": [
       "SAEMLogisticRegression(1000, 1.0e-7, 2, 1.0, 50, false, false, nothing, 42, [-0.07823509429975847, -1.1051687816165754, -1.7694085982690868, -2.2711008741860983, -0.9619462570617524, -1.6928029923530103], -0.07823509429975847, Float64[], [0.00014733567125579824, -0.023711784351258765, -0.024161966214708668, 0.02810790040674866, -0.0018869683802455839], [0.9717678730923467 -0.0278694842379803 … -0.05414681106964388 0.024895347360842493; -0.0278694842379803 1.0046914941587706 … -0.014020356568390058 0.0456590617212641; … ; -0.05414681106964388 -0.014020356568390058 … 1.0051710729410817 0.01673778198773627; 0.024895347360842493 0.0456590617212641 … 0.01673778198773627 1.0454909831542754], 0.0, true, 264)"
      ]
     },
     "metadata": {},
     "output_type": "display_data"
    }
   ],
   "source": [
    "\n",
    "# 4. Fit the model to the data\n",
    "println(\"Fitting the model...\")\n",
    "MISAEM.fit!(model, X_missing, y)\n"
   ]
  },
  {
   "cell_type": "code",
   "execution_count": 34,
   "id": "711ed140",
   "metadata": {},
   "outputs": [
    {
     "name": "stdout",
     "output_type": "stream",
     "text": [
      "\n",
      "Fitting complete.\n",
      "Converged: true\n",
      "Number of iterations: 264\n",
      "Estimated Coefficients (including intercept):\n",
      "[-0.07823509429975847, -1.1051687816165754, -1.7694085982690868, -2.2711008741860983, -0.9619462570617524, -1.6928029923530103]\n",
      "Observed Log-Likelihood: 0.0\n",
      "\n",
      "Making predictions...\n"
     ]
    },
    {
     "name": "stderr",
     "output_type": "stream",
     "text": [
      "┌ Warning: 166 rows with all NaN values in X have been removed.\n",
      "│   DataRemovalWarning = MISAEM.DataRemovalWarning\n",
      "└ @ MISAEM C:\\Users\\Chris\\Documents\\INRIA\\R_scripts\\misaem_julia\\MISAEM\\src\\MISAEM.jl:121\n"
     ]
    },
    {
     "ename": "DimensionMismatch",
     "evalue": "DimensionMismatch: a has size (1, 3), b has size (3,), mismatch at dim 1",
     "output_type": "error",
     "traceback": [
      "DimensionMismatch: a has size (1, 3), b has size (3,), mismatch at dim 1\n",
      "\n",
      "Stacktrace:\n",
      " [1] throw_promote_shape_mismatch(a::Tuple{Base.OneTo{Int64}, Base.OneTo{Int64}}, b::Tuple{Base.OneTo{Int64}}, i::Int64)\n",
      "   @ Base .\\indices.jl:135\n",
      " [2] promote_shape\n",
      "   @ .\\indices.jl:196 [inlined]\n",
      " [3] promote_shape\n",
      "   @ .\\indices.jl:188 [inlined]\n",
      " [4] +(A::Adjoint{Float64, Vector{Float64}}, B::Vector{Float64})\n",
      "   @ Base .\\arraymath.jl:7\n",
      " [5] predict_proba(model::SAEMLogisticRegression, X_test::Matrix{Float64}; method::Symbol, nmcmc::Int64, random_state::Nothing)\n",
      "   @ MISAEM C:\\Users\\Chris\\Documents\\INRIA\\R_scripts\\misaem_julia\\MISAEM\\src\\MISAEM.jl:674\n",
      " [6] predict_proba\n",
      "   @ C:\\Users\\Chris\\Documents\\INRIA\\R_scripts\\misaem_julia\\MISAEM\\src\\MISAEM.jl:587 [inlined]\n",
      " [7] predict(model::SAEMLogisticRegression, X_test::Matrix{Float64}; kwargs::@Kwargs{})\n",
      "   @ MISAEM C:\\Users\\Chris\\Documents\\INRIA\\R_scripts\\misaem_julia\\MISAEM\\src\\MISAEM.jl:713\n",
      " [8] predict(model::SAEMLogisticRegression, X_test::Matrix{Float64})\n",
      "   @ MISAEM C:\\Users\\Chris\\Documents\\INRIA\\R_scripts\\misaem_julia\\MISAEM\\src\\MISAEM.jl:712\n",
      " [9] top-level scope\n",
      "   @ c:\\Users\\Chris\\Documents\\INRIA\\R_scripts\\misaem_julia\\jl_notebook_cell_df34fa98e69747e1a8f8a730347b8e2f_W4sZmlsZQ==.jl:12"
     ]
    }
   ],
   "source": [
    "\n",
    "# 5. Display the results\n",
    "println(\"\\nFitting complete.\")\n",
    "println(\"Converged: \", model.converged)\n",
    "println(\"Number of iterations: \", model.n_iterations)\n",
    "println(\"Estimated Coefficients (including intercept):\")\n",
    "println(model.coef)\n",
    "println(\"Observed Log-Likelihood: \", model.ll_obs)\n",
    "\n",
    "# 6. Make predictions on the training data\n",
    "println(\"\\nMaking predictions...\")\n",
    "predictions = MISAEM.predict(model, X_missing)\n",
    "probabilities = MISAEM.predict_proba(model, X_missing, method=:map)\n",
    "\n",
    "println(\"Prediction for the first 5 samples: \", predictions[1:5])\n",
    "println(\"Probabilities for the first 5 samples: \", probabilities[1:5, :])"
   ]
  },
  {
   "cell_type": "code",
   "execution_count": 36,
   "id": "3c2b048b",
   "metadata": {},
   "outputs": [
    {
     "data": {
      "text/plain": [
       "5-element Vector{Float64}:\n",
       " -1.066850058222926\n",
       " -1.7049308411679553\n",
       " -2.2137526751489816\n",
       " -1.0250537232983983\n",
       " -1.6547101386351437"
      ]
     },
     "metadata": {},
     "output_type": "display_data"
    }
   ],
   "source": [
    "true_coeffs"
   ]
  }
 ],
 "metadata": {
  "kernelspec": {
   "display_name": "Julia 1.11.6",
   "language": "julia",
   "name": "julia-1.11"
  },
  "language_info": {
   "file_extension": ".jl",
   "mimetype": "application/julia",
   "name": "julia",
   "version": "1.11.6"
  }
 },
 "nbformat": 4,
 "nbformat_minor": 5
}
