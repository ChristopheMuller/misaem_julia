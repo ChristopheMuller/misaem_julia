{
 "cells": [
  {
   "cell_type": "code",
   "execution_count": 16,
   "id": "de8207b0",
   "metadata": {},
   "outputs": [
    {
     "name": "stderr",
     "output_type": "stream",
     "text": [
      "\u001b[32m\u001b[1m  Activating\u001b[22m\u001b[39m project at `~/Documents/Code/misaem_julia/MISAEM`\n"
     ]
    }
   ],
   "source": [
    "using Pkg\n",
    "Pkg.activate(\"./MISAEM\")"
   ]
  },
  {
   "cell_type": "code",
   "execution_count": 17,
   "id": "4848d6f1",
   "metadata": {},
   "outputs": [],
   "source": [
    "using MISAEM\n",
    "using Random\n",
    "using Distributions\n",
    "using LinearAlgebra\n",
    "using Statistics\n",
    "\n",
    "# Set a random seed for reproducibility\n",
    "# Random.seed!(123)\n",
    "\n",
    "# 2. Generate some example data\n",
    "# n: number of samples, p: number of features\n",
    "n = 21000\n",
    "n_test = 1000\n",
    "p = 5\n",
    "\n",
    "# Create a design matrix X with some missing values (NaN)\n",
    "X_complete = rand(Normal(), n, p)\n",
    "X_missing = copy(X_complete)\n",
    "X_missing[rand(Bool, n, p) .< 0.15] .= NaN # Introduce 15% missing values\n",
    "\n",
    "X_missing_fit = copy(X_missing[1:(n - n_test), :])\n",
    "rows_to_keep = [!all(isnan, X_missing_fit[i, :]) for i in 1:size(X_missing_fit, 1)]\n",
    "X_missing_fit = X_missing_fit[rows_to_keep, :]\n",
    "\n",
    "X_missing_test = copy(X_missing[(n - n_test + 1):end, :])\n",
    "\n",
    "\n",
    "# Create a response vector y (binary)\n",
    "true_coeffs = randn(p)\n",
    "linear_predictor = X_complete[:, 1:p] * true_coeffs\n",
    "probabilities = 1.0 ./ (1.0 .+ exp.(-linear_predictor))\n",
    "y = rand.(Bernoulli.(probabilities));\n",
    "\n",
    "y_fit = y[1:(n - n_test)]\n",
    "y_fit = y_fit[rows_to_keep]\n",
    "y_test = y[(n - n_test + 1):end];"
   ]
  },
  {
   "cell_type": "code",
   "execution_count": 18,
   "id": "9eeab4c9",
   "metadata": {},
   "outputs": [],
   "source": [
    "# 3. Instantiate the MISAEM model\n",
    "# You can adjust hyperparameters here if needed\n",
    "model = MISAEM.SAEMLogisticRegression(\n",
    "    maxruns = 1000,\n",
    "    random_state = 42,\n",
    "    var_cal=true,\n",
    "    ll_obs_cal=false\n",
    ");"
   ]
  },
  {
   "cell_type": "code",
   "execution_count": 19,
   "id": "190dd414",
   "metadata": {},
   "outputs": [
    {
     "name": "stderr",
     "output_type": "stream",
     "text": [
      "\u001b[32mSAEM Iterations:   9%|███▏                              |  ETA: 0:00:06\u001b[39m"
     ]
    },
    {
     "name": "stdout",
     "output_type": "stream",
     "text": [
      "\n",
      "...converged after 108 iterations.\n"
     ]
    },
    {
     "name": "stderr",
     "output_type": "stream",
     "text": [
      "\u001b[32mSAEM Iterations:  10%|███▎                              |  ETA: 0:00:05\u001b[39m"
     ]
    },
    {
     "name": "stdout",
     "output_type": "stream",
     "text": [
      "\n",
      "...converged after 108 iterations.\n",
      "  1.866373 seconds (85.17 M allocations: 10.996 GiB, 15.76% gc time)\n"
     ]
    }
   ],
   "source": [
    "MISAEM.fit!(model, X_missing_fit, y_fit) # Warm-up\n",
    "@time MISAEM.fit!(model, X_missing_fit, y_fit);"
   ]
  },
  {
   "cell_type": "code",
   "execution_count": 20,
   "id": "50450117",
   "metadata": {},
   "outputs": [
    {
     "name": "stderr",
     "output_type": "stream",
     "text": [
      "\u001b[32mSAEM Iterations:   9%|███                               |  ETA: 0:00:06\u001b[39m"
     ]
    },
    {
     "name": "stdout",
     "output_type": "stream",
     "text": [
      "\n",
      "...converged after 108 iterations.\n"
     ]
    },
    {
     "name": "stderr",
     "output_type": "stream",
     "text": [
      "\u001b[32mSAEM Iterations:  10%|███▍                              |  ETA: 0:00:05\u001b[39m"
     ]
    },
    {
     "name": "stdout",
     "output_type": "stream",
     "text": [
      "\n",
      "...converged after 108 iterations.\n"
     ]
    },
    {
     "name": "stderr",
     "output_type": "stream",
     "text": [
      "\u001b[32mSAEM Iterations:  10%|███▍                              |  ETA: 0:00:05\u001b[39m"
     ]
    },
    {
     "name": "stdout",
     "output_type": "stream",
     "text": [
      "\n",
      "...converged after 108 iterations.\n"
     ]
    },
    {
     "name": "stderr",
     "output_type": "stream",
     "text": [
      "\u001b[32mSAEM Iterations:   9%|███                               |  ETA: 0:00:04\u001b[39m"
     ]
    },
    {
     "name": "stdout",
     "output_type": "stream",
     "text": [
      "\n",
      "...converged after 108 iterations.\n"
     ]
    },
    {
     "name": "stderr",
     "output_type": "stream",
     "text": [
      "\u001b[32mSAEM Iterations:  10%|███▍                              |  ETA: 0:00:05\u001b[39m"
     ]
    },
    {
     "name": "stdout",
     "output_type": "stream",
     "text": [
      "\n",
      "...converged after 108 iterations.\n"
     ]
    },
    {
     "name": "stderr",
     "output_type": "stream",
     "text": [
      "\u001b[32mSAEM Iterations:  11%|███▋                              |  ETA: 0:00:05\u001b[39m"
     ]
    },
    {
     "name": "stdout",
     "output_type": "stream",
     "text": [
      "\n",
      "...converged after 108 iterations.\n"
     ]
    },
    {
     "name": "stderr",
     "output_type": "stream",
     "text": [
      "\u001b[32mSAEM Iterations:  10%|███▌                              |  ETA: 0:00:05\u001b[39m"
     ]
    },
    {
     "name": "stdout",
     "output_type": "stream",
     "text": [
      "\n",
      "...converged after 108 iterations.\n"
     ]
    },
    {
     "name": "stderr",
     "output_type": "stream",
     "text": [
      "\u001b[32mSAEM Iterations:   9%|███▏                              |  ETA: 0:00:05\u001b[39m"
     ]
    },
    {
     "name": "stdout",
     "output_type": "stream",
     "text": [
      "\n",
      "...converged after 108 iterations.\n"
     ]
    },
    {
     "name": "stderr",
     "output_type": "stream",
     "text": [
      "\u001b[32mSAEM Iterations:  10%|███▌                              |  ETA: 0:00:05\u001b[39m"
     ]
    },
    {
     "name": "stdout",
     "output_type": "stream",
     "text": [
      "\n",
      "...converged after 108 iterations.\n"
     ]
    },
    {
     "data": {
      "text/plain": [
       "BenchmarkTools.Trial: 3 samples with 1 evaluation per sample.\n",
       " Range \u001b[90m(\u001b[39m\u001b[36m\u001b[1mmin\u001b[22m\u001b[39m … \u001b[35mmax\u001b[39m\u001b[90m):  \u001b[39m\u001b[36m\u001b[1m1.835 s\u001b[22m\u001b[39m … \u001b[35m  1.923 s\u001b[39m  \u001b[90m┊\u001b[39m GC \u001b[90m(\u001b[39mmin … max\u001b[90m): \u001b[39m15.41% … 17.10%\n",
       " Time  \u001b[90m(\u001b[39m\u001b[34m\u001b[1mmedian\u001b[22m\u001b[39m\u001b[90m):     \u001b[39m\u001b[34m\u001b[1m1.855 s              \u001b[22m\u001b[39m\u001b[90m┊\u001b[39m GC \u001b[90m(\u001b[39mmedian\u001b[90m):    \u001b[39m15.46%\n",
       " Time  \u001b[90m(\u001b[39m\u001b[32m\u001b[1mmean\u001b[22m\u001b[39m ± \u001b[32mσ\u001b[39m\u001b[90m):   \u001b[39m\u001b[32m\u001b[1m1.871 s\u001b[22m\u001b[39m ± \u001b[32m46.016 ms\u001b[39m  \u001b[90m┊\u001b[39m GC \u001b[90m(\u001b[39mmean ± σ\u001b[90m):  \u001b[39m16.01% ±  0.96%\n",
       "\n",
       "  \u001b[34m█\u001b[39m\u001b[39m \u001b[39m \u001b[39m \u001b[39m \u001b[39m \u001b[39m \u001b[39m \u001b[39m \u001b[39m \u001b[39m \u001b[39m \u001b[39m█\u001b[39m \u001b[39m \u001b[39m \u001b[39m \u001b[39m \u001b[39m \u001b[39m \u001b[39m \u001b[39m \u001b[39m \u001b[32m \u001b[39m\u001b[39m \u001b[39m \u001b[39m \u001b[39m \u001b[39m \u001b[39m \u001b[39m \u001b[39m \u001b[39m \u001b[39m \u001b[39m \u001b[39m \u001b[39m \u001b[39m \u001b[39m \u001b[39m \u001b[39m \u001b[39m \u001b[39m \u001b[39m \u001b[39m \u001b[39m \u001b[39m \u001b[39m \u001b[39m \u001b[39m \u001b[39m \u001b[39m \u001b[39m \u001b[39m \u001b[39m \u001b[39m \u001b[39m█\u001b[39m \u001b[39m \n",
       "  \u001b[34m█\u001b[39m\u001b[39m▁\u001b[39m▁\u001b[39m▁\u001b[39m▁\u001b[39m▁\u001b[39m▁\u001b[39m▁\u001b[39m▁\u001b[39m▁\u001b[39m▁\u001b[39m▁\u001b[39m█\u001b[39m▁\u001b[39m▁\u001b[39m▁\u001b[39m▁\u001b[39m▁\u001b[39m▁\u001b[39m▁\u001b[39m▁\u001b[39m▁\u001b[39m▁\u001b[32m▁\u001b[39m\u001b[39m▁\u001b[39m▁\u001b[39m▁\u001b[39m▁\u001b[39m▁\u001b[39m▁\u001b[39m▁\u001b[39m▁\u001b[39m▁\u001b[39m▁\u001b[39m▁\u001b[39m▁\u001b[39m▁\u001b[39m▁\u001b[39m▁\u001b[39m▁\u001b[39m▁\u001b[39m▁\u001b[39m▁\u001b[39m▁\u001b[39m▁\u001b[39m▁\u001b[39m▁\u001b[39m▁\u001b[39m▁\u001b[39m▁\u001b[39m▁\u001b[39m▁\u001b[39m▁\u001b[39m▁\u001b[39m▁\u001b[39m▁\u001b[39m█\u001b[39m \u001b[39m▁\n",
       "  1.84 s\u001b[90m         Histogram: frequency by time\u001b[39m        1.92 s \u001b[0m\u001b[1m<\u001b[22m\n",
       "\n",
       " Memory estimate\u001b[90m: \u001b[39m\u001b[33m11.00 GiB\u001b[39m, allocs estimate\u001b[90m: \u001b[39m\u001b[33m85171693\u001b[39m."
      ]
     },
     "execution_count": 20,
     "metadata": {},
     "output_type": "execute_result"
    }
   ],
   "source": [
    "using BenchmarkTools\n",
    "\n",
    "MISAEM.fit!(model, X_missing_fit, y_fit); # Warm-up\n",
    "\n",
    "b1 = @benchmarkable MISAEM.fit!($model, $X_missing_fit, $y_fit)\n",
    "\n",
    "tune!(b1);\n",
    "run(b1)"
   ]
  },
  {
   "cell_type": "code",
   "execution_count": 21,
   "id": "c6957b34",
   "metadata": {},
   "outputs": [],
   "source": [
    "using PyCall\n",
    "# run(`$(PyCall.python) -m pip install numpy`)\n",
    "# run(`$(PyCall.python) -m pip install misaem`)\n",
    "\n",
    "\n",
    "misaem_py = pyimport(\"misaem\")\n",
    "SAEMLR = misaem_py.SAEMLogisticRegression\n",
    "\n",
    "model_py = SAEMLR(maxruns=1000, random_state=42, var_cal=true);"
   ]
  },
  {
   "cell_type": "code",
   "execution_count": 22,
   "id": "b9987b72",
   "metadata": {},
   "outputs": [
    {
     "name": "stdout",
     "output_type": "stream",
     "text": [
      "...converged after 106 iterations.\n",
      "...converged after 106 iterations.\n",
      "...converged after 106 iterations.\n",
      "...converged after 106 iterations.\n",
      "...converged after 106 iterations.\n"
     ]
    },
    {
     "name": "stderr",
     "output_type": "stream",
     "text": [
      " 10%|███▉                                  | 105/1000 [00:00<00:08, 105.30it/s]\n",
      " 10%|███▉                                  | 105/1000 [00:00<00:08, 106.71it/s]\n",
      " 10%|███▉                                  | 105/1000 [00:00<00:08, 106.97it/s]\n",
      " 10%|███▉                                  | 105/1000 [00:01<00:08, 104.30it/s]\n",
      " 10%|███▉                                  | 105/1000 [00:01<00:08, 104.22it/s]\n"
     ]
    },
    {
     "data": {
      "text/plain": [
       "BenchmarkTools.Trial: 1 sample with 1 evaluation per sample.\n",
       " Single result which took \u001b[34m52.530 s\u001b[39m (0.00% GC) to evaluate,\n",
       " with a memory estimate of \u001b[33m19.78 KiB\u001b[39m, over \u001b[33m22\u001b[39m allocations."
      ]
     },
     "execution_count": 22,
     "metadata": {},
     "output_type": "execute_result"
    }
   ],
   "source": [
    "model_py.fit(X_missing_fit, y_fit) # Warm-up\n",
    "b2 = @benchmarkable model_py.fit($X_missing_fit, $y_fit)\n",
    "tune!(b2)\n",
    "run(b2)"
   ]
  }
 ],
 "metadata": {
  "kernelspec": {
   "display_name": "Julia 1.11.7",
   "language": "julia",
   "name": "julia-1.11"
  },
  "language_info": {
   "file_extension": ".jl",
   "mimetype": "application/julia",
   "name": "julia",
   "version": "1.11.7"
  }
 },
 "nbformat": 4,
 "nbformat_minor": 5
}
